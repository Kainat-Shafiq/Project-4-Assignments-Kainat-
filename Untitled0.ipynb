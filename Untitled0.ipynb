{
  "nbformat": 4,
  "nbformat_minor": 0,
  "metadata": {
    "colab": {
      "provenance": [],
      "authorship_tag": "ABX9TyNFUOIKC4YSKcTE3Wl0Y9X9",
      "include_colab_link": true
    },
    "kernelspec": {
      "name": "python3",
      "display_name": "Python 3"
    },
    "language_info": {
      "name": "python"
    }
  },
  "cells": [
    {
      "cell_type": "markdown",
      "metadata": {
        "id": "view-in-github",
        "colab_type": "text"
      },
      "source": [
        "<a href=\"https://colab.research.google.com/github/Kainat-Shafiq/Project-4-Assignments-Kainat-/blob/main/Untitled0.ipynb\" target=\"_parent\"><img src=\"https://colab.research.google.com/assets/colab-badge.svg\" alt=\"Open In Colab\"/></a>"
      ]
    },
    {
      "cell_type": "markdown",
      "source": [
        "\n",
        "\n",
        "### **02_intermediate**(cont...)\n",
        "Intro to **Python**\n"
      ],
      "metadata": {
        "id": "G17a5iS5NM67"
      }
    },
    {
      "cell_type": "markdown",
      "source": [
        "## **Milestone #1: Mars Weight Only**"
      ],
      "metadata": {
        "id": "4F1e5TcPN6-6"
      }
    },
    {
      "cell_type": "code",
      "execution_count": 2,
      "metadata": {
        "colab": {
          "base_uri": "https://localhost:8080/"
        },
        "id": "ICKDMkiBMr8-",
        "outputId": "d29cd67e-bc17-40e9-c21e-274d67425930"
      },
      "outputs": [
        {
          "output_type": "stream",
          "name": "stdout",
          "text": [
            "Enter a weight on Earth: 588.6\n",
            "The equivalent on Mars: 222.49\n"
          ]
        }
      ],
      "source": [
        "# marsweight.py\n",
        "\n",
        "def main():\n",
        "    # Prompt user to enter weight on Earth\n",
        "    earth_weight = float(input(\"Enter a weight on Earth: \"))\n",
        "\n",
        "    # Mars gravity factor\n",
        "    mars_gravity = 0.378\n",
        "\n",
        "    # Calculate weight on Mars\n",
        "    mars_weight = round(earth_weight * mars_gravity, 2)\n",
        "\n",
        "    # Print result\n",
        "    print(\"The equivalent on Mars:\", mars_weight)\n",
        "\n",
        "if __name__ == \"__main__\":\n",
        "    main()\n"
      ]
    },
    {
      "cell_type": "markdown",
      "source": [
        "## **✅ Milestone #2: All Planets**"
      ],
      "metadata": {
        "id": "wEExU9KlNLE7"
      }
    },
    {
      "cell_type": "code",
      "source": [
        "# planetaryweight.py\n",
        "\n",
        "def main():\n",
        "    # Planetary gravity factors (relative to Earth)\n",
        "    gravity_factors = {\n",
        "        \"Mercury\": 0.376,\n",
        "        \"Venus\": 0.889,\n",
        "        \"Mars\": 0.378,\n",
        "        \"Jupiter\": 2.36,\n",
        "        \"Saturn\": 1.081,\n",
        "        \"Uranus\": 0.815,\n",
        "        \"Neptune\": 1.14\n",
        "    }\n",
        "\n",
        "    # Get user input\n",
        "    earth_weight = float(input(\"Enter a weight on Earth: \"))\n",
        "    planet = input(\"Enter a planet: \")\n",
        "\n",
        "    # Look up gravity factor and calculate new weight\n",
        "    if planet in gravity_factors:\n",
        "        new_weight = round(earth_weight * gravity_factors[planet], 2)\n",
        "        print(f\"The equivalent weight on {planet}: {new_weight}\")\n",
        "    else:\n",
        "        print(\"Unknown planet!\")\n",
        "\n",
        "if __name__ == \"__main__\":\n",
        "    main()\n"
      ],
      "metadata": {
        "colab": {
          "base_uri": "https://localhost:8080/"
        },
        "id": "9WCDp5MpOciw",
        "outputId": "402c8761-0822-41f4-fbe0-dcd21ae04cad"
      },
      "execution_count": 3,
      "outputs": [
        {
          "output_type": "stream",
          "name": "stdout",
          "text": [
            "Enter a weight on Earth: 456.9\n",
            "Enter a planet: 67599.9\n",
            "Unknown planet!\n"
          ]
        }
      ]
    },
    {
      "cell_type": "markdown",
      "source": [
        "**solution**"
      ],
      "metadata": {
        "id": "bpg4zpjnO8bI"
      }
    },
    {
      "cell_type": "code",
      "source": [
        "# --- Mars Weight Calculator ---\n",
        "# This calculates weight on Mars based on Earth weight input\n",
        "\n",
        "# We use constants!\n",
        "MARS_MULTIPLE = 0.378\n",
        "\n",
        "def mars_weight_calculator():\n",
        "    print(\"=== Mars Weight Calculator ===\")\n",
        "    earth_weight_str = input('Enter a weight on Earth: ')\n",
        "\n",
        "    # Convert to float\n",
        "    earth_weight = float(earth_weight_str)\n",
        "\n",
        "    # Calculate and round Mars weight\n",
        "    mars_weight = earth_weight * MARS_MULTIPLE\n",
        "    rounded_mars_weight = round(mars_weight, 2)\n",
        "\n",
        "    print('The equivalent weight on Mars: ' + str(rounded_mars_weight))\n",
        "\n",
        "\n",
        "# --- Planetary Weight Calculator ---\n",
        "# This calculates weight on a selected planet using gravity constants\n",
        "\n",
        "# Gravity constants\n",
        "MERCURY_GRAVITY = 0.376\n",
        "VENUS_GRAVITY = 0.889\n",
        "MARS_GRAVITY = 0.378\n",
        "JUPITER_GRAVITY = 2.36\n",
        "SATURN_GRAVITY = 1.081\n",
        "URANUS_GRAVITY = 0.815\n",
        "NEPTUNE_GRAVITY = 1.14\n",
        "\n",
        "def planetary_weight_calculator():\n",
        "    print(\"\\n=== Planetary Weight Calculator ===\")\n",
        "    earth_weight = float(input(\"Enter a weight on Earth: \"))\n",
        "    planet = input(\"Enter a planet (capitalize first letter, e.g. Mars): \")\n",
        "\n",
        "    # Determine gravity constant\n",
        "    if planet == \"Mercury\":\n",
        "        gravity_constant = MERCURY_GRAVITY\n",
        "    elif planet == \"Venus\":\n",
        "        gravity_constant = VENUS_GRAVITY\n",
        "    elif planet == \"Mars\":\n",
        "        gravity_constant = MARS_GRAVITY\n",
        "    elif planet == \"Jupiter\":\n",
        "        gravity_constant = JUPITER_GRAVITY\n",
        "    elif planet == \"Saturn\":\n",
        "        gravity_constant = SATURN_GRAVITY\n",
        "    elif planet == \"Uranus\":\n",
        "        gravity_constant = URANUS_GRAVITY\n",
        "    else:  # Neptune\n",
        "        gravity_constant = NEPTUNE_GRAVITY\n",
        "\n",
        "    # Calculate and round weight\n",
        "    planetary_weight = earth_weight * gravity_constant\n",
        "    rounded_planetary_weight = round(planetary_weight, 2)\n",
        "\n",
        "    print(\"The equivalent weight on \" + planet + \": \" + str(rounded_planetary_weight))\n",
        "\n",
        "\n",
        "# --- Main Menu to Choose Program ---\n",
        "def main():\n",
        "    print(\"Welcome to the Space Weight Calculator!\")\n",
        "    print(\"1. Calculate weight on Mars\")\n",
        "    print(\"2. Calculate weight on any planet\")\n",
        "\n",
        "    choice = input(\"Enter 1 or 2: \")\n",
        "\n",
        "    if choice == \"1\":\n",
        "        mars_weight_calculator()\n",
        "    elif choice == \"2\":\n",
        "        planetary_weight_calculator()\n",
        "    else:\n",
        "        print(\"Invalid choice. Please enter 1 or 2.\")\n",
        "\n",
        "# Run the main function\n",
        "main()\n"
      ],
      "metadata": {
        "colab": {
          "base_uri": "https://localhost:8080/"
        },
        "id": "zOTchLHMO-GZ",
        "outputId": "0f1788ed-6999-4961-c63c-a945ca1e8920"
      },
      "execution_count": 4,
      "outputs": [
        {
          "output_type": "stream",
          "name": "stdout",
          "text": [
            "Welcome to the Space Weight Calculator!\n",
            "1. Calculate weight on Mars\n",
            "2. Calculate weight on any planet\n",
            "Enter 1 or 2: 1\n",
            "=== Mars Weight Calculator ===\n",
            "Enter a weight on Earth: 4588.6\n",
            "The equivalent weight on Mars: 1734.49\n"
          ]
        }
      ]
    },
    {
      "cell_type": "markdown",
      "source": [
        "**starter_code**"
      ],
      "metadata": {
        "id": "Rq2qTriGPNK4"
      }
    },
    {
      "cell_type": "code",
      "source": [
        "import random\n",
        "\n",
        "NUM_ROUNDS = 5\n",
        "\n",
        "def main():\n",
        "    print(\"Welcome to the High-Low Game!\")\n",
        "    print('--------------------------------')\n",
        "\n",
        "    # TODO: Write your code here!!! :)\n",
        "\n",
        "if __name__ == \"__main__\":\n",
        "    main()"
      ],
      "metadata": {
        "id": "LO-Qm-ZHPOai"
      },
      "execution_count": null,
      "outputs": []
    }
  ]
}