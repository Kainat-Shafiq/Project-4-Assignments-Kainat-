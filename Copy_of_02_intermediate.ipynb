{
  "nbformat": 4,
  "nbformat_minor": 0,
  "metadata": {
    "colab": {
      "provenance": [],
      "authorship_tag": "ABX9TyNaLmaBPnKRZMPKrIBSVu3T",
      "include_colab_link": true
    },
    "kernelspec": {
      "name": "python3",
      "display_name": "Python 3"
    },
    "language_info": {
      "name": "python"
    }
  },
  "cells": [
    {
      "cell_type": "markdown",
      "metadata": {
        "id": "view-in-github",
        "colab_type": "text"
      },
      "source": [
        "<a href=\"https://colab.research.google.com/github/Kainat-Shafiq/Project-4-Assignments-Kainat-/blob/main/Copy_of_02_intermediate.ipynb\" target=\"_parent\"><img src=\"https://colab.research.google.com/assets/colab-badge.svg\" alt=\"Open In Colab\"/></a>"
      ]
    },
    {
      "cell_type": "markdown",
      "source": [
        "## Control Flow for **Console**\n",
        "**handout**"
      ],
      "metadata": {
        "id": "cJEI6pguJ_j2"
      }
    },
    {
      "cell_type": "code",
      "execution_count": null,
      "metadata": {
        "colab": {
          "base_uri": "https://localhost:8080/"
        },
        "id": "Fx-LJTeAJjLt",
        "outputId": "47db6bd0-301c-4b07-e0e8-4df95fc8687d"
      },
      "outputs": [
        {
          "output_type": "stream",
          "name": "stdout",
          "text": [
            "Welcome to the High-Low Game!\n",
            "--------------------------------\n",
            "Round 1\n",
            "Your number is 6\n",
            "Do you think your number is higher or lower than the computer's?: 233\n",
            "Please enter either 'higher' or 'lower'.\n"
          ]
        }
      ],
      "source": [
        "import random\n",
        "\n",
        "NUM_ROUNDS = 5\n",
        "\n",
        "def get_valid_guess():\n",
        "    \"\"\"Prompt the user until they enter 'higher' or 'lower'.\"\"\"\n",
        "    while True:\n",
        "        guess = input(\"Do you think your number is higher or lower than the computer's?: \").strip().lower()\n",
        "        if guess in [\"higher\", \"lower\"]:\n",
        "            return guess\n",
        "        else:\n",
        "            print(\"Please enter either 'higher' or 'lower'.\")\n",
        "\n",
        "def main():\n",
        "    print(\"Welcome to the High-Low Game!\")\n",
        "    print(\"--------------------------------\")\n",
        "\n",
        "    score = 0\n",
        "\n",
        "    for round_number in range(1, NUM_ROUNDS + 1):\n",
        "        print(f\"Round {round_number}\")\n",
        "        user_num = random.randint(1, 100)\n",
        "        computer_num = random.randint(1, 100)\n",
        "\n",
        "        print(f\"Your number is {user_num}\")\n",
        "        guess = get_valid_guess()\n",
        "\n",
        "        correct = False\n",
        "        if guess == \"higher\" and user_num > computer_num:\n",
        "            correct = True\n",
        "        elif guess == \"lower\" and user_num < computer_num:\n",
        "            correct = True\n",
        "\n",
        "        if correct:\n",
        "            print(f\"You were right! The computer's number was {computer_num}\")\n",
        "            score += 1\n",
        "        else:\n",
        "            print(f\"Aww, that's incorrect. The computer's number was {computer_num}\")\n",
        "\n",
        "        print(f\"Your score is now {score}\\n\")\n",
        "\n",
        "    # Final evaluation\n",
        "    print(\"Thanks for playing!\")\n",
        "    print(f\"Your final score is {score}\")\n",
        "\n",
        "    if score == NUM_ROUNDS:\n",
        "        print(\"Wow! You played perfectly!\")\n",
        "    elif score >= NUM_ROUNDS // 2:\n",
        "        print(\"Good job, you played really well!\")\n",
        "    else:\n",
        "        print(\"Better luck next time!\")\n",
        "\n",
        "# Run the game\n",
        "if __name__ == \"__main__\":\n",
        "    main()\n"
      ]
    },
    {
      "cell_type": "markdown",
      "source": [
        "**solution**"
      ],
      "metadata": {
        "id": "Mcl1VslOJ7r6"
      }
    },
    {
      "cell_type": "code",
      "source": [
        "# High-Low Game in Google Colab\n",
        "\n",
        "import random\n",
        "\n",
        "# Total number of rounds\n",
        "NUM_ROUNDS = 5\n",
        "\n",
        "def main():\n",
        "    print(\"Welcome to the High-Low Game!\")\n",
        "    print('--------------------------------')\n",
        "\n",
        "    your_score = 0  # Milestone 5: Track score\n",
        "\n",
        "    for i in range(NUM_ROUNDS):  # Milestone 4: Multiple rounds\n",
        "        print(f\"Round {i + 1}\")\n",
        "\n",
        "        computer_num = random.randint(1, 100)  # Milestone 1\n",
        "        your_num = random.randint(1, 100)\n",
        "        print(f\"Your number is {your_num}\")\n",
        "\n",
        "        # Milestone 2 + Extension 1: Valid input only\n",
        "        choice = input(\"Do you think your number is higher or lower than the computer's?: \").strip().lower()\n",
        "        while choice != \"higher\" and choice != \"lower\":\n",
        "            choice = input(\"Please enter either higher or lower: \").strip().lower()\n",
        "\n",
        "        # Milestone 3: Game logic\n",
        "        if (choice == \"higher\" and your_num > computer_num) or (choice == \"lower\" and your_num < computer_num):\n",
        "            print(f\"You were right! The computer's number was {computer_num}\")\n",
        "            your_score += 1\n",
        "        else:\n",
        "            print(f\"Aww, that's incorrect. The computer's number was {computer_num}\")\n",
        "\n",
        "        print(f\"Your score is now {your_score}\")\n",
        "        print()\n",
        "\n",
        "    # Endgame message – Extension 2\n",
        "    print(\"Thanks for playing!\")\n",
        "    print(f\"Your final score is {your_score}\")\n",
        "\n",
        "    if your_score == NUM_ROUNDS:\n",
        "        print(\"Wow! You played perfectly!\")\n",
        "    elif your_score >= NUM_ROUNDS // 2:\n",
        "        print(\"Good job, you played really well!\")\n",
        "    else:\n",
        "        print(\"Better luck next time!\")\n",
        "\n",
        "# Run the game\n",
        "if __name__ == \"__main__\":\n",
        "    main()\n"
      ],
      "metadata": {
        "id": "Ivmu8O-XKwPY"
      },
      "execution_count": null,
      "outputs": []
    },
    {
      "cell_type": "markdown",
      "source": [
        "**starter_code**"
      ],
      "metadata": {
        "id": "nEBxxQp4LXi3"
      }
    },
    {
      "cell_type": "code",
      "source": [
        "import random\n",
        "\n",
        "NUM_ROUNDS = 5\n",
        "\n",
        "def main():\n",
        "    print(\"Welcome to the High-Low Game!\")\n",
        "    print('--------------------------------')\n",
        "\n",
        "    # TODO: Write your code here!!! :)\n",
        "\n",
        "if __name__ == \"__main__\":\n",
        "    main()"
      ],
      "metadata": {
        "id": "3HxgxDa3LaU6"
      },
      "execution_count": null,
      "outputs": []
    }
  ]
}